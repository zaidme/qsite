{
  "cells": [
    {
      "cell_type": "markdown",
      "metadata": {
        "id": "view-in-github",
        "colab_type": "text"
      },
      "source": [
        "<a href=\"https://colab.research.google.com/github/zaidme/qsite/blob/main/Copy_of_QSITE_notebook.ipynb\" target=\"_parent\"><img src=\"https://colab.research.google.com/assets/colab-badge.svg\" alt=\"Open In Colab\"/></a>"
      ]
    },
    {
      "cell_type": "code",
      "source": [
        "!pip install -U classiq==0.48"
      ],
      "metadata": {
        "id": "tqF7w_eN3HpO",
        "outputId": "772c6466-e7fc-4249-b746-514c11af00e1",
        "colab": {
          "base_uri": "https://localhost:8080/"
        }
      },
      "id": "tqF7w_eN3HpO",
      "execution_count": null,
      "outputs": [
        {
          "output_type": "stream",
          "name": "stdout",
          "text": [
            "Collecting classiq==0.48\n",
            "  Downloading classiq-0.48.0-py3-none-any.whl.metadata (3.5 kB)\n",
            "Collecting ConfigArgParse<2.0.0,>=1.5.3 (from classiq==0.48)\n",
            "  Downloading ConfigArgParse-1.7-py3-none-any.whl.metadata (23 kB)\n",
            "Collecting Pyomo<6.6,>=6.5 (from classiq==0.48)\n",
            "  Downloading Pyomo-6.5.0-cp310-cp310-manylinux_2_17_x86_64.manylinux2014_x86_64.whl.metadata (7.5 kB)\n",
            "Collecting black<25.0,>=24.0 (from classiq==0.48)\n",
            "  Downloading black-24.8.0-cp310-cp310-manylinux_2_17_x86_64.manylinux2014_x86_64.manylinux_2_28_x86_64.whl.metadata (78 kB)\n",
            "\u001b[2K     \u001b[90m━━━━━━━━━━━━━━━━━━━━━━━━━━━━━━━━━━━━━━━━\u001b[0m \u001b[32m78.2/78.2 kB\u001b[0m \u001b[31m1.2 MB/s\u001b[0m eta \u001b[36m0:00:00\u001b[0m\n",
            "\u001b[?25hCollecting httpx<1,>=0.23.0 (from classiq==0.48)\n",
            "  Downloading httpx-0.27.2-py3-none-any.whl.metadata (7.1 kB)\n",
            "Requirement already satisfied: keyring<24.0.0,>=23.5.0 in /usr/lib/python3/dist-packages (from classiq==0.48) (23.5.0)\n",
            "Requirement already satisfied: matplotlib<4.0.0,>=3.4.3 in /usr/local/lib/python3.10/dist-packages (from classiq==0.48) (3.7.1)\n",
            "Collecting networkx<3.0.0,>=2.5.1 (from classiq==0.48)\n",
            "  Downloading networkx-2.8.8-py3-none-any.whl.metadata (5.1 kB)\n",
            "Requirement already satisfied: numexpr<3.0.0,>=2.7.3 in /usr/local/lib/python3.10/dist-packages (from classiq==0.48) (2.10.1)\n",
            "Requirement already satisfied: numpy<2.0.0,>=1.20.1 in /usr/local/lib/python3.10/dist-packages (from classiq==0.48) (1.26.4)\n",
            "Collecting packaging<24.0,>=23.2 (from classiq==0.48)\n",
            "  Downloading packaging-23.2-py3-none-any.whl.metadata (3.2 kB)\n",
            "Requirement already satisfied: pandas<3.0.0,>=1.4.0 in /usr/local/lib/python3.10/dist-packages (from classiq==0.48) (2.1.4)\n",
            "Requirement already satisfied: plotly<6.0.0,>=5.7.0 in /usr/local/lib/python3.10/dist-packages (from classiq==0.48) (5.15.0)\n",
            "Collecting pydantic<2.0.0,>=1.9.1 (from classiq==0.48)\n",
            "  Downloading pydantic-1.10.18-cp310-cp310-manylinux_2_17_x86_64.manylinux2014_x86_64.whl.metadata (152 kB)\n",
            "\u001b[2K     \u001b[90m━━━━━━━━━━━━━━━━━━━━━━━━━━━━━━━━━━━━━━━━\u001b[0m \u001b[32m152.2/152.2 kB\u001b[0m \u001b[31m2.6 MB/s\u001b[0m eta \u001b[36m0:00:00\u001b[0m\n",
            "\u001b[?25hRequirement already satisfied: scipy<2.0.0,>=1.10.0 in /usr/local/lib/python3.10/dist-packages (from classiq==0.48) (1.13.1)\n",
            "Requirement already satisfied: sympy<2.0.0,>=1.13.0 in /usr/local/lib/python3.10/dist-packages (from classiq==0.48) (1.13.2)\n",
            "Requirement already satisfied: tabulate<1,>=0.8.9 in /usr/local/lib/python3.10/dist-packages (from classiq==0.48) (0.9.0)\n",
            "Requirement already satisfied: click>=8.0.0 in /usr/local/lib/python3.10/dist-packages (from black<25.0,>=24.0->classiq==0.48) (8.1.7)\n",
            "Collecting mypy-extensions>=0.4.3 (from black<25.0,>=24.0->classiq==0.48)\n",
            "  Downloading mypy_extensions-1.0.0-py3-none-any.whl.metadata (1.1 kB)\n",
            "Collecting pathspec>=0.9.0 (from black<25.0,>=24.0->classiq==0.48)\n",
            "  Downloading pathspec-0.12.1-py3-none-any.whl.metadata (21 kB)\n",
            "Requirement already satisfied: platformdirs>=2 in /usr/local/lib/python3.10/dist-packages (from black<25.0,>=24.0->classiq==0.48) (4.3.6)\n",
            "Requirement already satisfied: tomli>=1.1.0 in /usr/local/lib/python3.10/dist-packages (from black<25.0,>=24.0->classiq==0.48) (2.0.1)\n",
            "Requirement already satisfied: typing-extensions>=4.0.1 in /usr/local/lib/python3.10/dist-packages (from black<25.0,>=24.0->classiq==0.48) (4.12.2)\n",
            "Requirement already satisfied: anyio in /usr/local/lib/python3.10/dist-packages (from httpx<1,>=0.23.0->classiq==0.48) (3.7.1)\n",
            "Requirement already satisfied: certifi in /usr/local/lib/python3.10/dist-packages (from httpx<1,>=0.23.0->classiq==0.48) (2024.8.30)\n",
            "Collecting httpcore==1.* (from httpx<1,>=0.23.0->classiq==0.48)\n",
            "  Downloading httpcore-1.0.5-py3-none-any.whl.metadata (20 kB)\n",
            "Requirement already satisfied: idna in /usr/local/lib/python3.10/dist-packages (from httpx<1,>=0.23.0->classiq==0.48) (3.10)\n",
            "Requirement already satisfied: sniffio in /usr/local/lib/python3.10/dist-packages (from httpx<1,>=0.23.0->classiq==0.48) (1.3.1)\n",
            "Collecting h11<0.15,>=0.13 (from httpcore==1.*->httpx<1,>=0.23.0->classiq==0.48)\n",
            "  Downloading h11-0.14.0-py3-none-any.whl.metadata (8.2 kB)\n",
            "Requirement already satisfied: contourpy>=1.0.1 in /usr/local/lib/python3.10/dist-packages (from matplotlib<4.0.0,>=3.4.3->classiq==0.48) (1.3.0)\n",
            "Requirement already satisfied: cycler>=0.10 in /usr/local/lib/python3.10/dist-packages (from matplotlib<4.0.0,>=3.4.3->classiq==0.48) (0.12.1)\n",
            "Requirement already satisfied: fonttools>=4.22.0 in /usr/local/lib/python3.10/dist-packages (from matplotlib<4.0.0,>=3.4.3->classiq==0.48) (4.53.1)\n",
            "Requirement already satisfied: kiwisolver>=1.0.1 in /usr/local/lib/python3.10/dist-packages (from matplotlib<4.0.0,>=3.4.3->classiq==0.48) (1.4.7)\n",
            "Requirement already satisfied: pillow>=6.2.0 in /usr/local/lib/python3.10/dist-packages (from matplotlib<4.0.0,>=3.4.3->classiq==0.48) (10.4.0)\n",
            "Requirement already satisfied: pyparsing>=2.3.1 in /usr/local/lib/python3.10/dist-packages (from matplotlib<4.0.0,>=3.4.3->classiq==0.48) (3.1.4)\n",
            "Requirement already satisfied: python-dateutil>=2.7 in /usr/local/lib/python3.10/dist-packages (from matplotlib<4.0.0,>=3.4.3->classiq==0.48) (2.8.2)\n",
            "Requirement already satisfied: pytz>=2020.1 in /usr/local/lib/python3.10/dist-packages (from pandas<3.0.0,>=1.4.0->classiq==0.48) (2024.2)\n",
            "Requirement already satisfied: tzdata>=2022.1 in /usr/local/lib/python3.10/dist-packages (from pandas<3.0.0,>=1.4.0->classiq==0.48) (2024.1)\n",
            "Requirement already satisfied: tenacity>=6.2.0 in /usr/local/lib/python3.10/dist-packages (from plotly<6.0.0,>=5.7.0->classiq==0.48) (9.0.0)\n",
            "Collecting ply (from Pyomo<6.6,>=6.5->classiq==0.48)\n",
            "  Downloading ply-3.11-py2.py3-none-any.whl.metadata (844 bytes)\n",
            "Requirement already satisfied: mpmath<1.4,>=1.1.0 in /usr/local/lib/python3.10/dist-packages (from sympy<2.0.0,>=1.13.0->classiq==0.48) (1.3.0)\n",
            "Requirement already satisfied: six>=1.5 in /usr/local/lib/python3.10/dist-packages (from python-dateutil>=2.7->matplotlib<4.0.0,>=3.4.3->classiq==0.48) (1.16.0)\n",
            "Requirement already satisfied: exceptiongroup in /usr/local/lib/python3.10/dist-packages (from anyio->httpx<1,>=0.23.0->classiq==0.48) (1.2.2)\n",
            "Downloading classiq-0.48.0-py3-none-any.whl (491 kB)\n",
            "\u001b[2K   \u001b[90m━━━━━━━━━━━━━━━━━━━━━━━━━━━━━━━━━━━━━━━━\u001b[0m \u001b[32m491.5/491.5 kB\u001b[0m \u001b[31m7.5 MB/s\u001b[0m eta \u001b[36m0:00:00\u001b[0m\n",
            "\u001b[?25hDownloading black-24.8.0-cp310-cp310-manylinux_2_17_x86_64.manylinux2014_x86_64.manylinux_2_28_x86_64.whl (1.8 MB)\n",
            "\u001b[2K   \u001b[90m━━━━━━━━━━━━━━━━━━━━━━━━━━━━━━━━━━━━━━━━\u001b[0m \u001b[32m1.8/1.8 MB\u001b[0m \u001b[31m24.6 MB/s\u001b[0m eta \u001b[36m0:00:00\u001b[0m\n",
            "\u001b[?25hDownloading ConfigArgParse-1.7-py3-none-any.whl (25 kB)\n",
            "Downloading httpx-0.27.2-py3-none-any.whl (76 kB)\n",
            "\u001b[2K   \u001b[90m━━━━━━━━━━━━━━━━━━━━━━━━━━━━━━━━━━━━━━━━\u001b[0m \u001b[32m76.4/76.4 kB\u001b[0m \u001b[31m2.9 MB/s\u001b[0m eta \u001b[36m0:00:00\u001b[0m\n",
            "\u001b[?25hDownloading httpcore-1.0.5-py3-none-any.whl (77 kB)\n",
            "\u001b[2K   \u001b[90m━━━━━━━━━━━━━━━━━━━━━━━━━━━━━━━━━━━━━━━━\u001b[0m \u001b[32m77.9/77.9 kB\u001b[0m \u001b[31m4.5 MB/s\u001b[0m eta \u001b[36m0:00:00\u001b[0m\n",
            "\u001b[?25hDownloading networkx-2.8.8-py3-none-any.whl (2.0 MB)\n",
            "\u001b[2K   \u001b[90m━━━━━━━━━━━━━━━━━━━━━━━━━━━━━━━━━━━━━━━━\u001b[0m \u001b[32m2.0/2.0 MB\u001b[0m \u001b[31m49.1 MB/s\u001b[0m eta \u001b[36m0:00:00\u001b[0m\n",
            "\u001b[?25hDownloading packaging-23.2-py3-none-any.whl (53 kB)\n",
            "\u001b[2K   \u001b[90m━━━━━━━━━━━━━━━━━━━━━━━━━━━━━━━━━━━━━━━━\u001b[0m \u001b[32m53.0/53.0 kB\u001b[0m \u001b[31m2.9 MB/s\u001b[0m eta \u001b[36m0:00:00\u001b[0m\n",
            "\u001b[?25hDownloading pydantic-1.10.18-cp310-cp310-manylinux_2_17_x86_64.manylinux2014_x86_64.whl (3.1 MB)\n",
            "\u001b[2K   \u001b[90m━━━━━━━━━━━━━━━━━━━━━━━━━━━━━━━━━━━━━━━━\u001b[0m \u001b[32m3.1/3.1 MB\u001b[0m \u001b[31m54.7 MB/s\u001b[0m eta \u001b[36m0:00:00\u001b[0m\n",
            "\u001b[?25hDownloading Pyomo-6.5.0-cp310-cp310-manylinux_2_17_x86_64.manylinux2014_x86_64.whl (10.7 MB)\n",
            "\u001b[2K   \u001b[90m━━━━━━━━━━━━━━━━━━━━━━━━━━━━━━━━━━━━━━━━\u001b[0m \u001b[32m10.7/10.7 MB\u001b[0m \u001b[31m62.4 MB/s\u001b[0m eta \u001b[36m0:00:00\u001b[0m\n",
            "\u001b[?25hDownloading mypy_extensions-1.0.0-py3-none-any.whl (4.7 kB)\n",
            "Downloading pathspec-0.12.1-py3-none-any.whl (31 kB)\n",
            "Downloading ply-3.11-py2.py3-none-any.whl (49 kB)\n",
            "\u001b[2K   \u001b[90m━━━━━━━━━━━━━━━━━━━━━━━━━━━━━━━━━━━━━━━━\u001b[0m \u001b[32m49.6/49.6 kB\u001b[0m \u001b[31m2.2 MB/s\u001b[0m eta \u001b[36m0:00:00\u001b[0m\n",
            "\u001b[?25hDownloading h11-0.14.0-py3-none-any.whl (58 kB)\n",
            "\u001b[2K   \u001b[90m━━━━━━━━━━━━━━━━━━━━━━━━━━━━━━━━━━━━━━━━\u001b[0m \u001b[32m58.3/58.3 kB\u001b[0m \u001b[31m3.4 MB/s\u001b[0m eta \u001b[36m0:00:00\u001b[0m\n",
            "\u001b[?25hInstalling collected packages: ply, Pyomo, pydantic, pathspec, packaging, networkx, mypy-extensions, h11, ConfigArgParse, httpcore, black, httpx, classiq\n",
            "  Attempting uninstall: pydantic\n",
            "    Found existing installation: pydantic 2.9.2\n",
            "    Uninstalling pydantic-2.9.2:\n",
            "      Successfully uninstalled pydantic-2.9.2\n",
            "  Attempting uninstall: packaging\n",
            "    Found existing installation: packaging 24.1\n",
            "    Uninstalling packaging-24.1:\n",
            "      Successfully uninstalled packaging-24.1\n",
            "  Attempting uninstall: networkx\n",
            "    Found existing installation: networkx 3.3\n",
            "    Uninstalling networkx-3.3:\n",
            "      Successfully uninstalled networkx-3.3\n",
            "\u001b[31mERROR: pip's dependency resolver does not currently take into account all the packages that are installed. This behaviour is the source of the following dependency conflicts.\n",
            "albumentations 1.4.15 requires pydantic>=2.7.0, but you have pydantic 1.10.18 which is incompatible.\u001b[0m\u001b[31m\n",
            "\u001b[0mSuccessfully installed ConfigArgParse-1.7 Pyomo-6.5.0 black-24.8.0 classiq-0.48.0 h11-0.14.0 httpcore-1.0.5 httpx-0.27.2 mypy-extensions-1.0.0 networkx-2.8.8 packaging-23.2 pathspec-0.12.1 ply-3.11 pydantic-1.10.18\n"
          ]
        }
      ]
    },
    {
      "cell_type": "code",
      "source": [
        "import classiq\n",
        "classiq.authenticate()"
      ],
      "metadata": {
        "id": "ybU95S503ykc"
      },
      "id": "ybU95S503ykc",
      "execution_count": null,
      "outputs": []
    },
    {
      "cell_type": "markdown",
      "id": "e7682d31-1cf2-4c6d-98b7-75fadfefb6bc",
      "metadata": {
        "id": "e7682d31-1cf2-4c6d-98b7-75fadfefb6bc"
      },
      "source": [
        "# High level quantum programming with Classiq"
      ]
    },
    {
      "cell_type": "markdown",
      "id": "01dfc0bf-5fdb-4d52-8fb4-168fc930aaff",
      "metadata": {
        "id": "01dfc0bf-5fdb-4d52-8fb4-168fc930aaff"
      },
      "source": [
        "**Welcome to the Classiq Workshop for the QSITE 2024!**\n",
        "\n",
        "The topic of this presentation is:\n",
        "\n",
        "- **High level quantum programming with Classiq**\n",
        "\n",
        "**[Classiq's documentation](https://docs.classiq.io/latest/)**\n",
        "\n",
        "\n",
        "\n",
        "\n",
        "Additional resources you should use are\n",
        "- The IDE of the classiq platform at [platform.classiq.io](https://platform.classiq.io)\n",
        "- The [community Slack of Classiq](https://short.classiq.io/join-slack) - Classiq's team will answer any question you have over there, including implementation questions\n",
        "- Our [GitHub repository](https://github.com/Classiq/classiq-library/tree/main)\n",
        "\n",
        "  \n",
        "**Good luck!**"
      ]
    },
    {
      "cell_type": "markdown",
      "id": "4962a36e-bf41-48a2-9ad0-cbae90f43d98",
      "metadata": {
        "id": "4962a36e-bf41-48a2-9ad0-cbae90f43d98"
      },
      "source": [
        "## The beggining: Quantum functions and Quantum variables"
      ]
    },
    {
      "cell_type": "markdown",
      "id": "30587afe-3f19-4c1d-9f88-4a9083e3a158",
      "metadata": {
        "id": "30587afe-3f19-4c1d-9f88-4a9083e3a158"
      },
      "source": [
        "The simplest quantum object is a single qubit, representing the values 0 or 1 when measured. Other types of quantum objects are stored on multiple qubits and represent numeric values or arrays of qubits.\n",
        "\n",
        "Quantum objects are managed in Qmod using quantum variables. Variables are introduced into the scope of a quantum function through the declaration of arguments or the declaration of local variables.\n",
        "\n",
        "A quantum variable establishes its reference to some object by explicitly initializing it. This is often done by passing it as the output argument of a function, such as `allocate()`. Once initialized, the state of the variable can be modified.\n",
        "\n",
        "Quantum functions are functions that depends on quantum variables, and are defined as regular functions in python after using the decorator `@qfunc`.\n",
        "\n",
        "<details>\n",
        "<summary> Types of Quantum Variables </summary>\n",
        "In Qmod there are 3 types of quantum variables:\n",
        "\n",
        "1. `QBit` (`qbit`)\n",
        "2. `QArray[QBit]` (`qbit[]`)\n",
        "3. `QNum` (`qnum`)\n",
        "\n",
        "(See also [Quantum Variables](https://nightly.docs.classiq.io/latest/classiq_101/classiq_concepts/design/quantum_variables_and_functions/))\n",
        "</details>"
      ]
    },
    {
      "cell_type": "code",
      "source": [
        "from classiq import *"
      ],
      "metadata": {
        "id": "q58PwllgW2rb"
      },
      "id": "q58PwllgW2rb",
      "execution_count": null,
      "outputs": []
    },
    {
      "cell_type": "markdown",
      "source": [
        "## Example: The $|-\\rangle$ state\n",
        "\n",
        "The $|-\\rangle$, also known as the \"minus state\", is important in quantum computing: It generates an equiprobable superposition of the computational basis, while having a negative phase between the states.\n",
        "\n",
        "Using Classiq, you can build a function that prepare the minus state in four lines:"
      ],
      "metadata": {
        "id": "F1Jn-eldW7Jq"
      },
      "id": "F1Jn-eldW7Jq"
    },
    {
      "cell_type": "code",
      "source": [
        "@qfunc\n",
        "def prepare_minus(q:QBit):\n",
        "  X(q)\n",
        "  H(q)"
      ],
      "metadata": {
        "id": "-o-TUx87UhuP"
      },
      "id": "-o-TUx87UhuP",
      "execution_count": null,
      "outputs": []
    },
    {
      "cell_type": "markdown",
      "source": [
        "And synthesize it:"
      ],
      "metadata": {
        "id": "YGdGi7d1axNA"
      },
      "id": "YGdGi7d1axNA"
    },
    {
      "cell_type": "code",
      "source": [
        "@qfunc\n",
        "def main(q:Output[QBit]):\n",
        "  allocate(1,q)\n",
        "  prepare_minus(q)\n",
        "\n",
        "qmod = create_model(main)\n",
        "qprog = synthesize(qmod)"
      ],
      "metadata": {
        "id": "4toFfhY7VVHw"
      },
      "id": "4toFfhY7VVHw",
      "execution_count": null,
      "outputs": []
    },
    {
      "cell_type": "markdown",
      "source": [
        "You can use the IDE to analyze your quantum program using the `show` command:"
      ],
      "metadata": {
        "id": "t5VGQcPBbNMW"
      },
      "id": "t5VGQcPBbNMW"
    },
    {
      "cell_type": "code",
      "source": [
        "show(qprog)"
      ],
      "metadata": {
        "id": "QRObWW4rbVK0"
      },
      "id": "QRObWW4rbVK0",
      "execution_count": null,
      "outputs": []
    },
    {
      "cell_type": "markdown",
      "metadata": {
        "id": "zVs_E60nd2xG"
      },
      "source": [
        "## Before the next step: Guidelines for High-Level Functional Design with Classiq"
      ],
      "id": "zVs_E60nd2xG"
    },
    {
      "cell_type": "markdown",
      "source": [
        "**Some basic explanations about the high-level functional design with Classiq:**\n",
        "\n",
        "* There should always be a `main` function - the model that captures your algorithm is described there\n",
        "\n",
        "* The model is always generated out of the main function\n",
        "\n",
        "* The model is sent to the synthesis engine (compiler) that return a quantum program which contains the quantum circuit"
      ],
      "metadata": {
        "id": "SDwMWhfjeP6B"
      },
      "id": "SDwMWhfjeP6B"
    },
    {
      "cell_type": "markdown",
      "source": [
        "**Some basic guidelines about the modeling language (QMOD):**\n",
        "\n",
        "1. Every quantum variable should be declared, either as an argument of a function e.g. `def prepare_minus(x: QBit)` or as a local variable within the function itself with `x = QBit('x')`\n",
        "\n",
        "2. Some quantum variables need to be initialized with the `allocate` function. This is required in 2 cases:\n",
        "* A variable is an argument of a function with the declaration `Output` like `def main(x: Output[QNum])`\n",
        "* A variable that was declared within a function like `a = QNum('a')`\n",
        "\n",
        "3. For the `main` function, you will always use `Output` for all variables. The `output` indicates that these quantum variables are not initialized outside the scope of the function.\n"
      ],
      "metadata": {
        "id": "_gcu_SRaeSP-"
      },
      "id": "_gcu_SRaeSP-"
    },
    {
      "cell_type": "markdown",
      "source": [
        "<details>\n",
        "<summary> Types of Initializations </summary>\n",
        "There are a few ways to initialize a quantum variable:\n",
        "\n",
        "1. With `allocate` or `allocate_num`\n",
        "2. With `prepare_int`, `prepare_state` or `prepare_amplitudes`\n",
        "3. As the result of a numeric operation `|=`\n",
        "4. With the `bind` operation (`->` in native)\n",
        "5. With any function that declares its quantum variable argument as `output`\n",
        "\n",
        "</details>"
      ],
      "metadata": {
        "id": "z-oN_0yMeWY5"
      },
      "id": "z-oN_0yMeWY5"
    },
    {
      "cell_type": "markdown",
      "source": [
        "# Tutorial 1: Preparing a state"
      ],
      "metadata": {
        "id": "5O5MY_U_fNKL"
      },
      "id": "5O5MY_U_fNKL"
    },
    {
      "cell_type": "markdown",
      "source": [
        "Preparing specific states is mandatory in most quantum algorithms. With this in mind, it is important to know how to prepare the initial state of a quantum program using the function `prepare_state`.\n",
        "\n",
        "Given a superposition of states with real, positive $\\{c_i\\}$:\n",
        "\n",
        "$$ |\\psi\\rangle = \\sum_{i=0}^{N} c_i |i\\rangle $$\n",
        "\n",
        "one can associate it to a probability list\n",
        "\n",
        "$$P = [|c_0|^2,|c_1|^2,\\dots,|c_{N}|^2]$$\n",
        "\n",
        "Lets see an example using 3 qubits:\n"
      ],
      "metadata": {
        "id": "3UD0p2effReF"
      },
      "id": "3UD0p2effReF"
    },
    {
      "cell_type": "code",
      "source": [
        "prob_list = [0.1, 0.2, 0.3, 0, 0 , 0, 0, 0.4]\n",
        "@qfunc\n",
        "def main(q:Output[QArray[QBit]]):\n",
        "  prepare_state(probabilities=prob_list, bound=0.01, out = q)\n",
        "\n",
        "qmod = create_model(main)\n",
        "qprog = synthesize(qmod)\n",
        "show(qprog)"
      ],
      "metadata": {
        "id": "L8wOJqvxhEDZ"
      },
      "id": "L8wOJqvxhEDZ",
      "execution_count": null,
      "outputs": []
    },
    {
      "cell_type": "markdown",
      "source": [
        "You can use also the `inplace_prepare_state` function when you need to execute the quantum operation necessary to prepare the state in the middle of your quantum program."
      ],
      "metadata": {
        "id": "qnr_QWXMjX1V"
      },
      "id": "qnr_QWXMjX1V"
    },
    {
      "cell_type": "markdown",
      "source": [
        "## Another example: `inplace_prepare_state` and `prepare_state`\n",
        "\n",
        "Now lets execute the operation necessary to prepare the state given by the probabilities\n",
        "\n",
        "$$P = [0.625, 0, 0, 0, 0.125, 0.125, 0.125, 0]$$\n",
        "\n",
        "in the state generated through `prob_list`:"
      ],
      "metadata": {
        "id": "GH3oaUv_kRFF"
      },
      "id": "GH3oaUv_kRFF"
    },
    {
      "cell_type": "code",
      "source": [
        "prob_list2 = [0.625, 0, 0, 0, 0.125, 0.125, 0.125, 0]\n",
        "@qfunc\n",
        "def main(q:Output[QArray[QBit]]):\n",
        "  prepare_state(probabilities=prob_list, bound=0.01, out = q)\n",
        "  inplace_prepare_state(probabilities=prob_list2, bound= 0.01, target=q)\n",
        "\n",
        "qmod = create_model(main)\n",
        "qprog = synthesize(qmod)\n",
        "show(qprog)"
      ],
      "metadata": {
        "id": "wbCrDVbjjFDU"
      },
      "id": "wbCrDVbjjFDU",
      "execution_count": null,
      "outputs": []
    },
    {
      "cell_type": "markdown",
      "source": [
        "# Tutorial 2: Circuit optimization and arithmetic expressions.\n",
        "\n",
        "Knowing what is the optimal number of gates or qubits in a quantum program are important informations that you can easily execute using the optimization tools in Classiq. Another important tool is the ability to realize arithmetic expressions.\n",
        "\n",
        "To see the functionality of these tools, lets work on the problem of evaluating `y=x²+x+1` using a quantum program:\n"
      ],
      "metadata": {
        "id": "-t8SA8Vfl_OI"
      },
      "id": "-t8SA8Vfl_OI"
    },
    {
      "cell_type": "code",
      "source": [
        "@qfunc\n",
        "def main(x:Output[QNum],y:Output[QNum]):\n",
        "  #Initializing the variable 'x'\n",
        "  allocate(3,x)\n",
        "  #Preparing 'x' in a superposition of all possible numbers between 0 and 7\n",
        "  apply_to_all(H,x)\n",
        "  #Evaluating the arithmetic expression\n",
        "  y |= x**2+x+1\n",
        "\n",
        "qmod = create_model(main)\n",
        "qprog = synthesize(qmod)\n",
        "show(qprog)"
      ],
      "metadata": {
        "id": "t4NSpAtpJoOf"
      },
      "id": "t4NSpAtpJoOf",
      "execution_count": null,
      "outputs": []
    },
    {
      "cell_type": "markdown",
      "source": [
        "Optimization can be done by setting constraints in your circuit or defining wheter you want to optimize the depth (number of operations) or width (number of qubits) in your quantum program. Lets try to optimize the latter program in depth with a fixed width of 9 qubits:"
      ],
      "metadata": {
        "id": "CthAzG1wIW_A"
      },
      "id": "CthAzG1wIW_A"
    },
    {
      "cell_type": "code",
      "source": [
        "constraints = Constraints(optimization_parameter=\"depth\", max_width=9)\n",
        "\n",
        "qmod = set_constraints(qmod, constraints)\n",
        "qprog = synthesize(qmod)\n",
        "show(qprog)"
      ],
      "metadata": {
        "id": "HtbDASDfJ4IW"
      },
      "id": "HtbDASDfJ4IW",
      "execution_count": null,
      "outputs": []
    },
    {
      "cell_type": "markdown",
      "source": [
        "# Your turn: Try to finish the following quantum program\n",
        "\n",
        "Using the function `prepare_state`, initialize two quantum variables `x` and `y` in the state with probabilities `P = [0.25, 0.25, 0.25, 0.25]`. After that, evaluate the arithmetic expression\n",
        "\n",
        "$$y = 0.5x+y+(y+x)^2$$\n",
        "\n",
        "and set a quantum program optimized in depth, with a maximum width of `max_width=16`."
      ],
      "metadata": {
        "id": "-Kd0fUeYMjy0"
      },
      "id": "-Kd0fUeYMjy0"
    },
    {
      "cell_type": "code",
      "source": [
        "probs = [0.25, 0.25, 0.25, 0.25]\n",
        "@qfunc\n",
        "def main(x:Output[QNum],y:Output[QNum],z:Output[QNum]):\n",
        "  #TODO: Prepare 'x' and 'y' in a superposition of all possible numbers between 0 and 3\n",
        "\n",
        "  #TODO: Evaluate the arithmetic expression\n",
        "  z |=\n",
        "\n",
        "qmod = create_model(main)\n",
        "\n",
        "constraints = Constraints(optimization_parameter=\"depth\", max_width=16)\n",
        "qmod = set_constraints(qmod, constraints)\n",
        "qprog = synthesize(qmod)\n",
        "show(qprog)"
      ],
      "metadata": {
        "id": "fa-il23KI3og"
      },
      "id": "fa-il23KI3og",
      "execution_count": null,
      "outputs": []
    },
    {
      "cell_type": "code",
      "source": [],
      "metadata": {
        "id": "Rxfyq6jTItvV"
      },
      "id": "Rxfyq6jTItvV",
      "execution_count": null,
      "outputs": []
    }
  ],
  "metadata": {
    "kernelspec": {
      "display_name": "Python 3 (ipykernel)",
      "language": "python",
      "name": "python3"
    },
    "language_info": {
      "codemirror_mode": {
        "name": "ipython",
        "version": 3
      },
      "file_extension": ".py",
      "mimetype": "text/x-python",
      "name": "python",
      "nbconvert_exporter": "python",
      "pygments_lexer": "ipython3",
      "version": "3.11.9"
    },
    "colab": {
      "provenance": [],
      "include_colab_link": true
    }
  },
  "nbformat": 4,
  "nbformat_minor": 5
}